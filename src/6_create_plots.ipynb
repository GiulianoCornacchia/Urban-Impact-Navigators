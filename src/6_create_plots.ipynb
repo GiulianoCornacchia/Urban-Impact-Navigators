{
 "cells": [
  {
   "cell_type": "markdown",
   "id": "014c35e6-9173-44a4-9fdc-2860d91b6f5a",
   "metadata": {},
   "source": [
    "# Notebook 6: Create Plots\n",
    "\n",
    "The following notebook uses the dictionaries computed in notebook `5_compute_results.ipynb` (or the dictionaries in the `results_article` folder) to generate plots regarding CO2 emissions and route diversity"
   ]
  },
  {
   "cell_type": "code",
   "execution_count": null,
   "id": "c34c7ef2-65a7-46aa-b9ef-23117fb129a4",
   "metadata": {},
   "outputs": [],
   "source": [
    "import numpy as np\n",
    "import json\n",
    "import gzip\n",
    "from matplotlib import pyplot as plt\n",
    "\n",
    "def load_dict_from_gzipped_json(filename):\n",
    "    with gzip.open(filename, 'rt') as gzipped_file:\n",
    "        data = json.load(gzipped_file)\n",
    "    return data\n",
    "\n",
    "def get_measure(dict_city, navigator, base, N, measure, divide_by=1):\n",
    "\n",
    "    percentages = np.arange(0, 101, 10)\n",
    "\n",
    "    dict_measure = dict_city[navigator][base][N][measure]\n",
    "    avg_measure = [np.mean(dict_measure[str(p)])/divide_by for p in percentages]\n",
    "    std_measure = [np.std(dict_measure[str(p)])/divide_by for p in percentages]\n",
    "\n",
    "    return avg_measure, std_measure\n",
    "\n",
    "def apply_my_axes_style(ax):\n",
    "    ax.grid(alpha=.2)\n",
    "    ax.set_box_aspect(1)\n",
    "    ax.spines['top'].set_visible(False)\n",
    "    ax.spines['right'].set_visible(False)"
   ]
  },
  {
   "cell_type": "markdown",
   "id": "cefe28d8-4958-4694-bd6b-cf7a0edf5e5c",
   "metadata": {},
   "source": [
    "General Parameters"
   ]
  },
  {
   "cell_type": "code",
   "execution_count": null,
   "id": "ed202a8b-7f3f-4a3d-9f11-4bf5e33eda29",
   "metadata": {},
   "outputs": [],
   "source": [
    "city_to_N_max = {\"milan\": 100000, \"florence\": 50000, \"rome\":100000}\n",
    "percentages = np.arange(0, 101, 10)\n",
    "\n",
    "SERVICE2ACRONYM = {'bing': 'Bi', \n",
    "                 'mapbox': 'MB', \n",
    "                 'gmaps': 'GM', \n",
    "                'tomtomFastest': 'TTF', \n",
    "                   'tomtomShort': 'TTS', \n",
    "                 'tomtomEco': 'ecoTT',\n",
    "                  'IGfastest':'FP',\n",
    "                  \"interplay\": \"INT\"}\n",
    "\n",
    "SERVICE2COLOR = {'bing': '#1f77b4', \n",
    "                 'mapbox': '#ff7f0e', \n",
    "                 'gmaps': '#2ca02c', \n",
    "                 'tomtomFastest': '#d62728', \n",
    "                 'tomtomShort': '#9467bd', \n",
    "                 'tomtomEco': '#8c564b',\n",
    "                 'IGfastest':'blue',\n",
    "                 'interplay':'black'}"
   ]
  },
  {
   "cell_type": "markdown",
   "id": "3b9544e7-0ee3-464c-b782-e2dd0ce086b0",
   "metadata": {},
   "source": [
    "### Load the dictionary containing the aggregated results"
   ]
  },
  {
   "cell_type": "code",
   "execution_count": null,
   "id": "e9d0dc03-69a1-4685-8884-6b1c1a5cc2af",
   "metadata": {},
   "outputs": [],
   "source": [
    "path_dict_results = \"../results_article/results_milan.json.gz\"\n",
    "\n",
    "dict_results = load_dict_from_gzipped_json(path_dict_results)"
   ]
  },
  {
   "cell_type": "markdown",
   "id": "ea137b63-ec92-4d88-92e1-08d3b0a20731",
   "metadata": {},
   "source": [
    "#### Info on the configuration to plot"
   ]
  },
  {
   "cell_type": "code",
   "execution_count": null,
   "id": "2eac0f3d-9422-41ab-ad1a-2460ef9e5601",
   "metadata": {},
   "outputs": [],
   "source": [
    "navigators_to_plot = [\"tomtomFastest\", \"tomtomEco\", \"tomtomShort\", \"bing\", \"mapbox\", \"gmaps\"]\n",
    "\n",
    "base = \"myduaw5\"\n",
    "N = 65000"
   ]
  },
  {
   "cell_type": "markdown",
   "id": "aa41ee76-060b-4a78-84ff-6dd474d6247a",
   "metadata": {},
   "source": [
    "# Route Diversity"
   ]
  },
  {
   "cell_type": "code",
   "execution_count": null,
   "id": "cc409c86-92cf-47ab-bd1c-717bf9d347ce",
   "metadata": {},
   "outputs": [],
   "source": [
    "fig, ax = plt.subplots(1, 1, figsize=(6, 6))\n",
    "measure = \"traveled_edges\"\n",
    "\n",
    "\n",
    "for navigator in navigators_to_plot:\n",
    "\n",
    "    avg_values_navigator, std_values_navigator = get_measure(dict_results, navigator, base, str(N), measure)\n",
    "    \n",
    "    \n",
    "    ax.errorbar(x=percentages, y=avg_values_navigator, yerr=std_values_navigator, \n",
    "                        marker = \"o\", markersize=8, color=SERVICE2COLOR[navigator], linestyle=\":\",\n",
    "                        linewidth=2, label=SERVICE2ACRONYM[navigator])\n",
    "\n",
    "apply_my_axes_style(ax)\n",
    "\n",
    "ax.set_ylabel(\"route diversity\", fontsize=15)\n",
    "ax.tick_params(axis='both', which='major', labelsize=15, length=7, width=2);\n",
    "ax.set_xlabel('adoption rate $r$ (%)', fontsize=15);\n",
    "plt.legend();"
   ]
  },
  {
   "cell_type": "markdown",
   "id": "566d3b1e-2f82-4640-bf0a-b3409e715604",
   "metadata": {},
   "source": [
    "# CO2 emissions"
   ]
  },
  {
   "cell_type": "code",
   "execution_count": null,
   "id": "456665fa-f217-49a8-9a5d-5962b4a780d2",
   "metadata": {},
   "outputs": [],
   "source": [
    "fig, ax = plt.subplots(1, 1, figsize=(6, 6))\n",
    "measure = \"total_co2\"\n",
    "\n",
    "express_in_kg = False\n",
    "normalize_by_N = False\n",
    "\n",
    "\n",
    "for navigator in navigators_to_plot:\n",
    "\n",
    "    avg_values_navigator, std_values_navigator = get_measure(dict_results, navigator, base, str(N), measure)\n",
    "    \n",
    "    if \"total_co2\" in measure:\n",
    "        if express_in_kg:\n",
    "            avg_values_navigator = 1e3*np.array(avg_values_navigator)/1e9\n",
    "            std_values_navigator = 1e3*np.array(std_values_navigator)/1e9\n",
    "        else:\n",
    "            avg_values_navigator = np.array(avg_values_navigator)/1e9\n",
    "            std_values_navigator = np.array(std_values_navigator)/1e9\n",
    "\n",
    "    if normalize_by_N:\n",
    "        avg_values_navigator = np.array(avg_values_navigator)/N_measure\n",
    "        std_values_navigator = np.array(std_values_navigator)/N_measure\n",
    "    \n",
    "    ax.errorbar(x=percentages, y=avg_values_navigator, yerr=std_values_navigator, \n",
    "                        marker = \"o\", markersize=8, color=SERVICE2COLOR[navigator], linestyle=\":\",\n",
    "                        linewidth=2, label=SERVICE2ACRONYM[navigator])\n",
    "\n",
    "apply_my_axes_style(ax)\n",
    "\n",
    "if normalize_by_N:\n",
    "    ax.set_ylabel(\"CO2 per vehicle (kg)\", fontsize=15)\n",
    "else:\n",
    "    ax.set_ylabel(\"tot. CO2 (tons)\", fontsize=15)\n",
    "\n",
    "ax.tick_params(axis='both', which='major', labelsize=15, length=7, width=2);\n",
    "ax.set_xlabel('adoption rate $r$ (%)', fontsize=15);\n",
    "\n",
    "plt.legend();"
   ]
  },
  {
   "cell_type": "code",
   "execution_count": null,
   "id": "c0bb571c-fe06-473a-ac01-b46a0022c112",
   "metadata": {},
   "outputs": [],
   "source": [
    "measure = \"traveled_edges\"\n",
    "traffic_levels = [0,1]\n",
    "\n",
    "df_table = dict_df_tables[measure]"
   ]
  },
  {
   "cell_type": "code",
   "execution_count": null,
   "id": "c2ec27e7-3a20-4da4-bb7e-26b5663be8ff",
   "metadata": {},
   "outputs": [],
   "source": [
    "city = \"florence\"\n",
    "\n",
    "df_query = df_table[(df_table[\"city\"] == city)&(df_table[\"traffic\"].isin(traffic_levels))]\n",
    "\n",
    "df_query[\"value_max\"].min(), df_query[\"value_max\"].max()"
   ]
  },
  {
   "cell_type": "code",
   "execution_count": null,
   "id": "f633f53a-f7e0-4cec-8cec-56068668acb1",
   "metadata": {},
   "outputs": [],
   "source": [
    "city = \"milan\"\n",
    "\n",
    "df_query = df_table[(df_table[\"city\"] == city)&(df_table[\"traffic\"].isin(traffic_levels))]\n",
    "\n",
    "df_query[\"value_max\"].min(), df_query[\"value_max\"].max()"
   ]
  },
  {
   "cell_type": "code",
   "execution_count": null,
   "id": "85ef1d96-1355-40f1-ac22-dcaef8f27bbc",
   "metadata": {},
   "outputs": [],
   "source": [
    "city = \"rome\"\n",
    "\n",
    "df_query = df_table[(df_table[\"city\"] == city)&(df_table[\"traffic\"].isin(traffic_levels))]\n",
    "\n",
    "df_query[\"value_max\"].min(), df_query[\"value_max\"].max()"
   ]
  },
  {
   "cell_type": "code",
   "execution_count": null,
   "id": "babaeee6-0501-4f54-a55b-8c677d746d38",
   "metadata": {},
   "outputs": [],
   "source": [
    "measure = \"traveled_edges\"\n",
    "traffic_levels = [0,1]\n",
    "\n",
    "df_table = dict_df_tables[measure]"
   ]
  },
  {
   "cell_type": "code",
   "execution_count": null,
   "id": "37562bb7-a72d-4f5e-9afd-99d7a5e806f6",
   "metadata": {},
   "outputs": [],
   "source": [
    "city = \"florence\"\n",
    "\n",
    "df_query = df_table[(df_table[\"city\"] == city)&(df_table[\"traffic\"].isin(traffic_levels))]\n",
    "\n",
    "-1*df_query[\"at_100\"].max(), -1*df_query[\"at_100\"].min()"
   ]
  },
  {
   "cell_type": "code",
   "execution_count": null,
   "id": "25c3c920-493e-445f-9d76-e5d124a2e6ec",
   "metadata": {},
   "outputs": [],
   "source": [
    "city = \"milan\"\n",
    "\n",
    "df_query = df_table[(df_table[\"city\"] == city)&(df_table[\"traffic\"].isin(traffic_levels))]\n",
    "\n",
    "-1*df_query[\"at_100\"].max(), -1*df_query[\"at_100\"].min()"
   ]
  },
  {
   "cell_type": "code",
   "execution_count": null,
   "id": "2dc934cc-459c-444d-9773-15561d44f142",
   "metadata": {},
   "outputs": [],
   "source": [
    "city = \"rome\"\n",
    "\n",
    "df_query = df_table[(df_table[\"city\"] == city)&(df_table[\"traffic\"].isin(traffic_levels))]\n",
    "\n",
    "-1*df_query[\"at_100\"].max(), -1*df_query[\"at_100\"].min()"
   ]
  },
  {
   "cell_type": "code",
   "execution_count": null,
   "id": "25e12581-1982-44c8-a2ae-9e8fdb1ee13c",
   "metadata": {},
   "outputs": [],
   "source": [
    "measure = \"total_co2\"\n",
    "traffic_levels = [0]\n",
    "\n",
    "df_table = dict_df_tables[measure]"
   ]
  },
  {
   "cell_type": "code",
   "execution_count": null,
   "id": "dc7ecf66-16e9-48e8-b502-15fa7833c80a",
   "metadata": {},
   "outputs": [],
   "source": [
    "city = \"florence\"\n",
    "\n",
    "df_query = df_table[(df_table[\"city\"] == city)&(df_table[\"traffic\"].isin(traffic_levels))]\n",
    "\n",
    "-1*df_query[\"value_min\"].max(), -1*df_query[\"value_min\"].min()"
   ]
  },
  {
   "cell_type": "code",
   "execution_count": null,
   "id": "8a3730fc-c0a6-44de-a79e-959d79859a21",
   "metadata": {},
   "outputs": [],
   "source": [
    "city = \"milan\"\n",
    "\n",
    "df_query = df_table[(df_table[\"city\"] == city)&(df_table[\"traffic\"].isin(traffic_levels))]\n",
    "\n",
    "-1*df_query[\"value_min\"].max(), -1*df_query[\"value_min\"].min()"
   ]
  },
  {
   "cell_type": "code",
   "execution_count": null,
   "id": "66750a88-07db-4193-a129-ba2c04f25aa9",
   "metadata": {},
   "outputs": [],
   "source": [
    "city = \"rome\"\n",
    "\n",
    "df_query = df_table[(df_table[\"city\"] == city)&(df_table[\"traffic\"].isin(traffic_levels))]\n",
    "\n",
    "df_query"
   ]
  },
  {
   "cell_type": "code",
   "execution_count": null,
   "id": "cd1fbb4c-9713-4bab-8cb6-177928b80704",
   "metadata": {},
   "outputs": [],
   "source": []
  }
 ],
 "metadata": {
  "kernelspec": {
   "display_name": "Python 3 (ipykernel)",
   "language": "python",
   "name": "python3"
  },
  "language_info": {
   "codemirror_mode": {
    "name": "ipython",
    "version": 3
   },
   "file_extension": ".py",
   "mimetype": "text/x-python",
   "name": "python",
   "nbconvert_exporter": "python",
   "pygments_lexer": "ipython3",
   "version": "3.9.18"
  }
 },
 "nbformat": 4,
 "nbformat_minor": 5
}
