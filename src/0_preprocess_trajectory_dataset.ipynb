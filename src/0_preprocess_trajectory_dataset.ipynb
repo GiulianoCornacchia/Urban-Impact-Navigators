{
 "cells": [
  {
   "cell_type": "markdown",
   "id": "a6d27fc2-a05e-45c4-b24e-d77363725294",
   "metadata": {},
   "source": [
    "# Notebook 0: Preprocessing Trajectory Dataset\n",
    "\n",
    "This notebook focuses on preprocessing trajectory data to generate a collection of trips, which will later be used for inferring Origin-Destination (OD) matrices. While this notebook is based on the public dataset available [here](https://ckan-sobigdata.d4science.org/dataset/gps_track_milan_italy), it can be easily adapted to work with any vehicular trace dataset."
   ]
  },
  {
   "cell_type": "code",
   "execution_count": null,
   "id": "652cfc99-46e3-4355-8a89-92eab59b1941",
   "metadata": {},
   "outputs": [],
   "source": [
    "import pandas as pd\n",
    "import geopandas as gpd\n",
    "from utils_trip_preprocessing import create_trips_from_gps"
   ]
  },
  {
   "cell_type": "markdown",
   "id": "6b097652-2927-49f8-bc0c-d5784e50a381",
   "metadata": {},
   "source": [
    "### Pre-processing parameters"
   ]
  },
  {
   "cell_type": "code",
   "execution_count": null,
   "id": "2492ef5f-6ec1-4666-b254-59136c5d8e01",
   "metadata": {},
   "outputs": [],
   "source": [
    "max_speed_kmh = 250\n",
    "spatial_radius_km_stops=0.2\n",
    "minutes_for_a_stop=20"
   ]
  },
  {
   "cell_type": "code",
   "execution_count": null,
   "id": "dcf6fcba-606d-4aef-99a2-e02de147826e",
   "metadata": {},
   "outputs": [],
   "source": [
    "df_raw_dataset = pd.read_csv(\"../gps_data/MilanoData.csv.zip\", compression=\"zip\")\n",
    "\n",
    "# Load city_shape\n",
    "city_shape = gpd.read_file(\"../data/bbox_cities/bbox_road_network_milan.geojson\")\n",
    "city_shape_proj = city_shape.to_crs('epsg:32633')"
   ]
  },
  {
   "cell_type": "markdown",
   "id": "4d98073b-3677-42bc-ada4-a9423b9a1c35",
   "metadata": {},
   "source": [
    "### Pre-process the dataset and segment trajectories into trips"
   ]
  },
  {
   "cell_type": "code",
   "execution_count": null,
   "id": "4c03b871-ddc4-45d8-b506-ad9d092bf3fc",
   "metadata": {},
   "outputs": [],
   "source": [
    "%%time\n",
    "\n",
    "preprocessed_trips = create_trips_from_gps(df_raw_dataset, city_shape, \"datetime\", \n",
    "                                          max_speed_kmh=max_speed_kmh, \n",
    "                                          spatial_radius_km_stops=spatial_radius_km_stops,\n",
    "                                           minutes_for_a_stop=minutes_for_a_stop)"
   ]
  },
  {
   "cell_type": "markdown",
   "id": "bfcbda4e-19fd-4b07-8fe3-5bbc2e6cad7f",
   "metadata": {},
   "source": [
    "Save the pre-processed file"
   ]
  },
  {
   "cell_type": "code",
   "execution_count": null,
   "id": "1e2d96a2-cec5-4457-9b8a-44b9cb2fe4c5",
   "metadata": {},
   "outputs": [],
   "source": [
    "preprocessed_trips.to_csv(\"../gps_data/preprocessed_trips_milan.csv.zip\", compression=\"zip\", index=False)"
   ]
  }
 ],
 "metadata": {
  "kernelspec": {
   "display_name": "Python 3 (ipykernel)",
   "language": "python",
   "name": "python3"
  },
  "language_info": {
   "codemirror_mode": {
    "name": "ipython",
    "version": 3
   },
   "file_extension": ".py",
   "mimetype": "text/x-python",
   "name": "python",
   "nbconvert_exporter": "python",
   "pygments_lexer": "ipython3",
   "version": "3.9.18"
  }
 },
 "nbformat": 4,
 "nbformat_minor": 5
}
