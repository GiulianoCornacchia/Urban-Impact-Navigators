{
 "cells": [
  {
   "cell_type": "markdown",
   "id": "b2722d1a-0e79-4ecc-8b9c-fb3c48062a45",
   "metadata": {},
   "source": [
    "# Notebook 1: Create Origin-Destination (OD) Matrix\n",
    "\n",
    "The goal of the following notebook is to compute an OD matrix.\n",
    "For each city we compute an OD matrix $M$, where an element $m_{o, d} \\in M$ denotes the number of trips that start in tile $o$ and end in tile $d$. Each vehicle's trip starting and ending tiles determine the origins and destinations.\n",
    "\n",
    "To compute the OD matrix we divide the urban environment into squared tiles of a given side.\n",
    "\n",
    "\n",
    "In this notebook, we provide two ways to compute the OD-matrix because the OctoTelematics dataset utilized in our study is proprietary and not publicly available. Therefore, the original OD-matrices employed in this research cannot be included in this repository. However, we have provided the necessary code to generate an OD-matrix for Milan using a publicly accessible dataset. This code is flexible and can be adapted for use with any data source. Additionally, we offer a routine to create random OD matrices, which can be useful in scenarios lacking trajectory data."
   ]
  },
  {
   "cell_type": "code",
   "execution_count": null,
   "id": "d69c85c3-b879-4b43-8663-042fdce6be7b",
   "metadata": {},
   "outputs": [],
   "source": [
    "import warnings\n",
    "warnings.filterwarnings(\"ignore\")\n",
    "\n",
    "import pandas as pd\n",
    "import skmob\n",
    "import geopandas as gpd\n",
    "\n",
    "import random\n",
    "\n",
    "from skmob.tessellation import tilers\n",
    "from skmob.utils.plot import plot_gdf\n",
    "import numpy as np"
   ]
  },
  {
   "cell_type": "code",
   "execution_count": null,
   "id": "9f9fc332-9f92-40b4-b7a6-5758ff1fbaa4",
   "metadata": {},
   "outputs": [],
   "source": [
    "def compute_od_matrix_date_fdf(t_flows, tessellation, normalize=False):\n",
    "    \n",
    "    matrix_flows_m = np.zeros((len(tessellation), len(tessellation)))\n",
    "\n",
    "    for o, d, flow in zip(t_flows[\"origin\"], t_flows[\"destination\"], t_flows[\"flow\"]):\n",
    "        matrix_flows_m[int(o),int(d)]+=flow\n",
    "        \n",
    "    if normalize:\n",
    "        matrix_flows_m = matrix_flows_m/matrix_flows_m.sum()\n",
    "        \n",
    "    return matrix_flows_m"
   ]
  },
  {
   "cell_type": "markdown",
   "id": "9b38d64e-88df-411f-9ab4-6ee0b7f3c810",
   "metadata": {},
   "source": [
    "#### City and Tessellation"
   ]
  },
  {
   "cell_type": "code",
   "execution_count": null,
   "id": "a93cdd09-202a-44ce-a343-b3afa674b7c3",
   "metadata": {},
   "outputs": [],
   "source": [
    "city = \"milan\"\n",
    "\n",
    "\n",
    "city_shape = gpd.read_file(f\"../data/bbox_cities/bbox_road_network_milan.geojson\")\n",
    "tile_size_meters = 1000\n",
    "tessellation = tilers.tiler.get('squared', base_shape=city_shape, meters=tile_size_meters)\n",
    "print(len(tessellation))\n",
    "# style of the tessellation\n",
    "tex_style = {'fillColor':'blue', 'color':'black', 'opacity': 0.2}\n",
    "plot_gdf(tessellation, style_func_args=tex_style, zoom=10)"
   ]
  },
  {
   "cell_type": "markdown",
   "id": "3d1da937-04f5-41bb-ad6d-2e71c4614909",
   "metadata": {},
   "source": [
    "#### 1 Create from GPS trajectories"
   ]
  },
  {
   "cell_type": "code",
   "execution_count": null,
   "id": "c32efcc7-224d-4c9b-a9d1-fd12940f27b4",
   "metadata": {},
   "outputs": [],
   "source": [
    "path_dataset = f\"../gps_data/preprocessed_trips_{city}.csv.zip\"\n",
    "\n",
    "df_trajectories = pd.read_csv(path_dataset, compression=\"zip\")"
   ]
  },
  {
   "cell_type": "code",
   "execution_count": null,
   "id": "2a4633fb-fc3c-493d-bb88-60c57679042b",
   "metadata": {},
   "outputs": [],
   "source": [
    "#df_trajectories = df_trajectories.drop(\"uid\", axis=1)"
   ]
  },
  {
   "cell_type": "code",
   "execution_count": null,
   "id": "c5abb232-57ed-4245-8fa3-6c5cf8091538",
   "metadata": {},
   "outputs": [],
   "source": [
    "tdf = skmob.TrajDataFrame(df_trajectories, latitude='lat', longitude='lng', \n",
    "                                             user_id='trip_id', datetime='datetime')\n",
    "\n",
    "tdf = tdf.sort_by_uid_and_datetime()\n",
    "tdf = tdf.reset_index(drop=True)"
   ]
  },
  {
   "cell_type": "markdown",
   "id": "6ab0be83-5ad9-4abb-b73e-f8a5b7302de5",
   "metadata": {},
   "source": [
    "Keep only origin and destination for each trip"
   ]
  },
  {
   "cell_type": "code",
   "execution_count": null,
   "id": "e8b159ce-f084-4e22-ab13-bda5f564b1de",
   "metadata": {},
   "outputs": [],
   "source": [
    "#compute origin and destination\n",
    "t_start = tdf.groupby(\"uid\", as_index=False).first()\n",
    "t_end = tdf.groupby(\"uid\", as_index=False).last()\n",
    "\n",
    "#concatenate the Os and Ds\n",
    "t_trips_od = pd.concat([t_start,t_end])\n",
    "t_trips_od = t_trips_od.sort_by_uid_and_datetime()\n",
    "t_trips_od = t_trips_od.reset_index(drop=True)"
   ]
  },
  {
   "cell_type": "code",
   "execution_count": null,
   "id": "1a82810b-1229-43ab-8ba3-3c77886707ab",
   "metadata": {},
   "outputs": [],
   "source": [
    "fdf = t_trips_od.to_flowdataframe(tessellation, self_loops=False)"
   ]
  },
  {
   "cell_type": "code",
   "execution_count": null,
   "id": "380abb0e-bb0c-4f3a-ab1e-6d1caeced341",
   "metadata": {},
   "outputs": [],
   "source": [
    "od_matrix = compute_od_matrix_date_fdf(fdf, tessellation)"
   ]
  },
  {
   "cell_type": "code",
   "execution_count": null,
   "id": "5166d729-df32-4953-b2e5-f98e1a9c8955",
   "metadata": {},
   "outputs": [],
   "source": [
    "np.save(f\"../data/od_matrices/od_matrix_{city}.npy\", od_matrix)"
   ]
  },
  {
   "cell_type": "markdown",
   "id": "af5fb0f3-9aed-4a36-9ae0-fc51d6a89943",
   "metadata": {},
   "source": [
    "#### 2 Create random OD matrix"
   ]
  },
  {
   "cell_type": "code",
   "execution_count": null,
   "id": "3443ab7a-f127-46d4-9eb6-ae150e2fa316",
   "metadata": {},
   "outputs": [],
   "source": [
    "matrix_random = np.zeros((len(tessellation), len(tessellation)))"
   ]
  },
  {
   "cell_type": "code",
   "execution_count": null,
   "id": "bffefba0-c026-41c1-8ef8-05d54a6ab6c3",
   "metadata": {},
   "outputs": [],
   "source": [
    "n_samples = 100*1000\n",
    "\n",
    "samples_rows = [random.randint(0, len(tessellation)-1) for _ in range(n_samples)]\n",
    "samples_cols = [random.randint(0, len(tessellation)-1) for _ in range(n_samples)]"
   ]
  },
  {
   "cell_type": "code",
   "execution_count": null,
   "id": "e5f8b603-9394-48cb-85a6-2553114d0262",
   "metadata": {},
   "outputs": [],
   "source": [
    "for row, col in zip(samples_rows, samples_cols):\n",
    "    matrix_random[row][col]+=1"
   ]
  },
  {
   "cell_type": "code",
   "execution_count": null,
   "id": "9438bab6-0d1f-42e8-86f4-8548a2f4193b",
   "metadata": {},
   "outputs": [],
   "source": [
    "np.save(f\"../data/od_matrices/rand_od_matrix_{city}.npy\", matrix_random)"
   ]
  }
 ],
 "metadata": {
  "kernelspec": {
   "display_name": "Python 3 (ipykernel)",
   "language": "python",
   "name": "python3"
  },
  "language_info": {
   "codemirror_mode": {
    "name": "ipython",
    "version": 3
   },
   "file_extension": ".py",
   "mimetype": "text/x-python",
   "name": "python",
   "nbconvert_exporter": "python",
   "pygments_lexer": "ipython3",
   "version": "3.9.18"
  }
 },
 "nbformat": 4,
 "nbformat_minor": 5
}
