{
 "cells": [
  {
   "cell_type": "markdown",
   "id": "c5f69a00-4a01-48e6-aefa-f82d501777f6",
   "metadata": {},
   "source": [
    "# 5: Compute Results\n",
    "\n",
    "This notebook computes the aggregated results of the simulations into dictionaries."
   ]
  },
  {
   "cell_type": "code",
   "execution_count": 1,
   "id": "a83ecae1-281b-46b1-8729-a8066d4a3185",
   "metadata": {},
   "outputs": [],
   "source": [
    "import os\n",
    "import numpy as np\n",
    "from utils_result import compute_measures_parallel, merge_navigator_results\n",
    "import sumolib\n",
    "from multiprocessing import Pool"
   ]
  },
  {
   "cell_type": "code",
   "execution_count": 2,
   "id": "1d774fce-3cc7-4a51-93a8-71400833b473",
   "metadata": {},
   "outputs": [],
   "source": [
    "city = \"milan\"\n",
    "list_navigators = [\"IGfastest\"]\n",
    "list_bases = [\"myduaw5\"]\n",
    "list_N = [5000]\n",
    "list_adoption_rates = [int(pct) for pct in np.arange(0,101,10)]\n",
    "\n",
    "\n",
    "folder_output_results = f\"../data/{city}/dict_results/\"\n",
    "if not os.path.exists(folder_output_results):\n",
    "    os.makedirs(folder_output_results)\n",
    "\n",
    "# Compute the list of edges in the road network\n",
    "road_network_path = f\"../data/road_networks/sumo_road_network_{city}.net.xml\"\n",
    "road_network = sumolib.net.readNet(road_network_path, withInternal=False)\n",
    "road_network_edge_list = [e.getID() for e in road_network.getEdges()]"
   ]
  },
  {
   "cell_type": "markdown",
   "id": "f0f8813f-d4a4-4733-998d-840eb59922ac",
   "metadata": {},
   "source": [
    "#### a) Compute single dictionaries (one for each navigator and base, in parallel)"
   ]
  },
  {
   "cell_type": "code",
   "execution_count": 3,
   "id": "125d73c1-41cf-4577-b4d5-d87e30278358",
   "metadata": {},
   "outputs": [
    {
     "name": "stdout",
     "output_type": "stream",
     "text": [
      "SAVING results_milan_IGfastest_myduaw5...\n"
     ]
    }
   ],
   "source": [
    "compute_measures_parallel(city, list_navigators, list_bases, \n",
    "                          list_N, list_adoption_rates, \n",
    "                          road_network_edge_list, folder_output_results)"
   ]
  },
  {
   "cell_type": "markdown",
   "id": "62bd0e61-f8c1-4662-970c-faf31c56eda9",
   "metadata": {},
   "source": [
    "#### b) Merge single dictionaries into one dict"
   ]
  },
  {
   "cell_type": "code",
   "execution_count": 4,
   "id": "e0a8bd18-6ef7-4f4b-8107-7b8d11d6a0d7",
   "metadata": {},
   "outputs": [
    {
     "name": "stdout",
     "output_type": "stream",
     "text": [
      "done!\n",
      "dict_keys(['IGfastest'])\n"
     ]
    }
   ],
   "source": [
    "merge_navigator_results(city, list_navigators, list_bases, list_N, list_adoption_rates, folder_output_results)"
   ]
  }
 ],
 "metadata": {
  "kernelspec": {
   "display_name": "Python 3 (ipykernel)",
   "language": "python",
   "name": "python3"
  },
  "language_info": {
   "codemirror_mode": {
    "name": "ipython",
    "version": 3
   },
   "file_extension": ".py",
   "mimetype": "text/x-python",
   "name": "python",
   "nbconvert_exporter": "python",
   "pygments_lexer": "ipython3",
   "version": "3.9.18"
  }
 },
 "nbformat": 4,
 "nbformat_minor": 5
}
