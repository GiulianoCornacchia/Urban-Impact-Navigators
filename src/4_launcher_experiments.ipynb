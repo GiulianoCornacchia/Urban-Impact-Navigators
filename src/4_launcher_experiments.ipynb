{
 "cells": [
  {
   "cell_type": "markdown",
   "id": "0e68ed53-fc86-4893-98dc-deb9d659dab9",
   "metadata": {},
   "source": [
    "# Notebook 4: Launcher Experiments\n",
    "\n",
    "This notebook launches the SUMO experiments."
   ]
  },
  {
   "cell_type": "code",
   "execution_count": null,
   "id": "bef3698a",
   "metadata": {},
   "outputs": [],
   "source": [
    "import subprocess\n",
    "import os\n",
    "import time"
   ]
  },
  {
   "cell_type": "markdown",
   "id": "ad3fa86f-e68b-4ecd-8a1f-0cd73decd8a0",
   "metadata": {},
   "source": [
    "#### Parameters"
   ]
  },
  {
   "cell_type": "code",
   "execution_count": null,
   "id": "1d6300a4",
   "metadata": {},
   "outputs": [],
   "source": [
    "city = \"milan\"\n",
    "\n",
    "road_net = f\"../data/road_networks/sumo_road_network_{city}.net.xml\"\n",
    "\n",
    "folder_routed_paths = f\"../data/{city}/routed_paths\"\n",
    "folder_vehicles_mapping = f\"../data/{city}/mobility_demand\"\n",
    "\n",
    "list_n_vehicles = [5000]\n",
    "\n",
    "navigators = [\"IGfastest\"]\n",
    "list_bases = [\"myduaw5\"]\n",
    "\n",
    "njobs = 20\n",
    "\n",
    "list_adoption_rates = [0, 10, 20, 30, 40, 50, 60, 70, 80, 90, 100]\n",
    "\n",
    "n_rep_min = 0\n",
    "n_rep_max = 0\n",
    "\n",
    "print(f\"City: {city}\")\n",
    "print(f\"Navigators: {navigators}\")\n",
    "print(f\"Road Network: {road_net}\")\n",
    "print(f\"Number of Traffic Conditions: {len(list_n_vehicles)}\")\n",
    "print(f\"List of Number of Vehicles: {list_n_vehicles}\")\n",
    "print(f\"List of Bases: {list_bases}\")\n",
    "print(f\"Adoption Rates (%): {list_adoption_rates}\")\n",
    "print(f\"Repetitions: {n_rep_max-n_rep_min+1}, interval [{n_rep_min}, {n_rep_max+1})\")\n",
    "print(f\"Number of Jobs: {njobs}\")"
   ]
  },
  {
   "cell_type": "code",
   "execution_count": null,
   "id": "e81ee8f0",
   "metadata": {},
   "outputs": [],
   "source": [
    "# Record the start time\n",
    "start_time = time.time()\n",
    "\n",
    "for base in list_bases:\n",
    "    for navigator in navigators:\n",
    "        for N in list_n_vehicles:\n",
    "     \n",
    "            # Record the start time\n",
    "            start_time_single = time.time()\n",
    "\n",
    "            string_adoption_rates = '-'.join(map(str, list_adoption_rates))\n",
    "\n",
    "            path_base = os.path.join(folder_routed_paths, f\"N{N}\", f\"routed_paths_{city}_N{N}_{base}.rou.xml.gz\")\n",
    "            path_navigator = os.path.join(folder_routed_paths, f\"N{N}\", f\"routed_paths_{city}_N{N}_{navigator}.rou.xml.gz\")\n",
    "            path_vehicles_mapping = os.path.join(folder_vehicles_mapping, f\"N{N}\", f\"dict_set_vehicles_{city}_N{N}.json\")\n",
    "\n",
    "            options = f\"-c {city} --road-network {road_net} -v {N} --base {base} --navigator {navigator}\" \\\n",
    "            f\" --path-base {path_base} --path-navigator {path_navigator} --path-vehicles-mapping {path_vehicles_mapping}\" \\\n",
    "            f\" --rep-min {n_rep_min} --rep-max {n_rep_max}\" \\\n",
    "            f\" --list-pct {string_adoption_rates} -z 1 --njobs {njobs}\"\n",
    "\n",
    "            command_list = ['python', \"launcher_traffico2.py\"]+options.split(\" \")\n",
    "\n",
    "            script = subprocess.Popen(command_list)#, stdout=subprocess.DEVNULL)\n",
    "            script.wait()\n",
    "\n",
    "            end_time_single = time.time()\n",
    "            elapsed_time_single = round(end_time_single - start_time_single, 2)\n",
    "\n",
    "            print(navigator, N, base, f\"completed. ({elapsed_time_single} seconds.)\")\n",
    "            \n",
    "            \n",
    "# Record the end time\n",
    "end_time = time.time()\n",
    "# Calculate the elapsed time\n",
    "elapsed_time = round(end_time - start_time, 2)\n",
    "print(\"Elapsed Time:\", elapsed_time, \"seconds\")        "
   ]
  }
 ],
 "metadata": {
  "kernelspec": {
   "display_name": "Python 3 (ipykernel)",
   "language": "python",
   "name": "python3"
  },
  "language_info": {
   "codemirror_mode": {
    "name": "ipython",
    "version": 3
   },
   "file_extension": ".py",
   "mimetype": "text/x-python",
   "name": "python",
   "nbconvert_exporter": "python",
   "pygments_lexer": "ipython3",
   "version": "3.9.18"
  }
 },
 "nbformat": 4,
 "nbformat_minor": 5
}
